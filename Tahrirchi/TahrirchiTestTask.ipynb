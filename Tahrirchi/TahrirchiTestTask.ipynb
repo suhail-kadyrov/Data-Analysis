{
  "nbformat": 4,
  "nbformat_minor": 0,
  "metadata": {
    "colab": {
      "provenance": []
    },
    "kernelspec": {
      "name": "python3",
      "display_name": "Python 3"
    },
    "language_info": {
      "name": "python"
    }
  },
  "cells": [
    {
      "cell_type": "code",
      "execution_count": 1,
      "metadata": {
        "id": "8vZDkXiq0C-F"
      },
      "outputs": [],
      "source": [
        "import requests\n",
        "from bs4 import BeautifulSoup\n",
        "import pandas as pd\n",
        "from datetime import datetime as dt"
      ]
    },
    {
      "cell_type": "code",
      "source": [
        "# used articles\n",
        "articles = [\n",
        "    'https://kun.uz/uz/news/2022/11/30/parda-ortidagi-xususiylashtirish-yirik-aktivlar-qanday-qilib-ofshor-kompaniyalarga-otib-ketmoqda',\n",
        "    'https://kun.uz/uz/news/2022/12/02/haqiqatda-zarur-bolganlarga-gamxorlik-korsating',\n",
        "    'https://qalampir.uz/uz/news/sizlar-kabi-men-%D2%B3am-aldandim-zha%D2%B3ongir-khuzhayev-teleuyindan-uzi-%D2%B3am-pul-ololmaganini-aytdi-72949'\n",
        "]"
      ],
      "metadata": {
        "id": "WIKCz0D_2eA-"
      },
      "execution_count": 2,
      "outputs": []
    },
    {
      "cell_type": "markdown",
      "source": [
        "# Task 1"
      ],
      "metadata": {
        "id": "gD02K9QSIWt6"
      }
    },
    {
      "cell_type": "code",
      "source": [
        "# Parsing\n",
        "data = []\n",
        "\n",
        "for article in articles:\n",
        "  html = requests.get(article).text\n",
        "  soup = BeautifulSoup(html, 'html.parser')\n",
        "  all_p_tags = soup.find_all('p')\n",
        "  text = ' '.join(\n",
        "      list(map(lambda p: p.get_text(), all_p_tags))\n",
        "  )\n",
        "  data.append(\n",
        "      {\n",
        "          'source_url': article,\n",
        "          'access_datetime': dt.now(),\n",
        "          'content': text\n",
        "      }\n",
        "  )"
      ],
      "metadata": {
        "id": "fA-xLZSH6TaX"
      },
      "execution_count": 3,
      "outputs": []
    },
    {
      "cell_type": "code",
      "source": [
        "# createing dataframe\n",
        "df = pd.DataFrame(data)"
      ],
      "metadata": {
        "id": "ZLCorCJU7aly"
      },
      "execution_count": 4,
      "outputs": []
    },
    {
      "cell_type": "code",
      "source": [
        "df"
      ],
      "metadata": {
        "colab": {
          "base_uri": "https://localhost:8080/",
          "height": 143
        },
        "id": "XuGKMbRi8yDE",
        "outputId": "d7fac021-2955-4714-b1b0-fdaf2bfbd633"
      },
      "execution_count": 5,
      "outputs": [
        {
          "output_type": "execute_result",
          "data": {
            "text/plain": [
              "                                          source_url  \\\n",
              "0  https://kun.uz/uz/news/2022/11/30/parda-ortida...   \n",
              "1  https://kun.uz/uz/news/2022/12/02/haqiqatda-za...   \n",
              "2  https://qalampir.uz/uz/news/sizlar-kabi-men-%D...   \n",
              "\n",
              "             access_datetime  \\\n",
              "0 2022-12-02 09:20:00.363609   \n",
              "1 2022-12-02 09:20:01.512848   \n",
              "2 2022-12-02 09:20:03.216314   \n",
              "\n",
              "                                             content  \n",
              "0  Oxirgi yillarda davlat korxonalarini xususiyla...  \n",
              "1  3 dekabr - Xalqaro nogironlar kuni sanasi ERIE...  \n",
              "2  Kecha, 28 noyabr kuni “Omadingizni bersin” tel...  "
            ],
            "text/html": [
              "\n",
              "  <div id=\"df-5a30bf4c-2e0b-4c7e-b2d6-5e85961a751c\">\n",
              "    <div class=\"colab-df-container\">\n",
              "      <div>\n",
              "<style scoped>\n",
              "    .dataframe tbody tr th:only-of-type {\n",
              "        vertical-align: middle;\n",
              "    }\n",
              "\n",
              "    .dataframe tbody tr th {\n",
              "        vertical-align: top;\n",
              "    }\n",
              "\n",
              "    .dataframe thead th {\n",
              "        text-align: right;\n",
              "    }\n",
              "</style>\n",
              "<table border=\"1\" class=\"dataframe\">\n",
              "  <thead>\n",
              "    <tr style=\"text-align: right;\">\n",
              "      <th></th>\n",
              "      <th>source_url</th>\n",
              "      <th>access_datetime</th>\n",
              "      <th>content</th>\n",
              "    </tr>\n",
              "  </thead>\n",
              "  <tbody>\n",
              "    <tr>\n",
              "      <th>0</th>\n",
              "      <td>https://kun.uz/uz/news/2022/11/30/parda-ortida...</td>\n",
              "      <td>2022-12-02 09:20:00.363609</td>\n",
              "      <td>Oxirgi yillarda davlat korxonalarini xususiyla...</td>\n",
              "    </tr>\n",
              "    <tr>\n",
              "      <th>1</th>\n",
              "      <td>https://kun.uz/uz/news/2022/12/02/haqiqatda-za...</td>\n",
              "      <td>2022-12-02 09:20:01.512848</td>\n",
              "      <td>3 dekabr - Xalqaro nogironlar kuni sanasi ERIE...</td>\n",
              "    </tr>\n",
              "    <tr>\n",
              "      <th>2</th>\n",
              "      <td>https://qalampir.uz/uz/news/sizlar-kabi-men-%D...</td>\n",
              "      <td>2022-12-02 09:20:03.216314</td>\n",
              "      <td>Kecha, 28 noyabr kuni “Omadingizni bersin” tel...</td>\n",
              "    </tr>\n",
              "  </tbody>\n",
              "</table>\n",
              "</div>\n",
              "      <button class=\"colab-df-convert\" onclick=\"convertToInteractive('df-5a30bf4c-2e0b-4c7e-b2d6-5e85961a751c')\"\n",
              "              title=\"Convert this dataframe to an interactive table.\"\n",
              "              style=\"display:none;\">\n",
              "        \n",
              "  <svg xmlns=\"http://www.w3.org/2000/svg\" height=\"24px\"viewBox=\"0 0 24 24\"\n",
              "       width=\"24px\">\n",
              "    <path d=\"M0 0h24v24H0V0z\" fill=\"none\"/>\n",
              "    <path d=\"M18.56 5.44l.94 2.06.94-2.06 2.06-.94-2.06-.94-.94-2.06-.94 2.06-2.06.94zm-11 1L8.5 8.5l.94-2.06 2.06-.94-2.06-.94L8.5 2.5l-.94 2.06-2.06.94zm10 10l.94 2.06.94-2.06 2.06-.94-2.06-.94-.94-2.06-.94 2.06-2.06.94z\"/><path d=\"M17.41 7.96l-1.37-1.37c-.4-.4-.92-.59-1.43-.59-.52 0-1.04.2-1.43.59L10.3 9.45l-7.72 7.72c-.78.78-.78 2.05 0 2.83L4 21.41c.39.39.9.59 1.41.59.51 0 1.02-.2 1.41-.59l7.78-7.78 2.81-2.81c.8-.78.8-2.07 0-2.86zM5.41 20L4 18.59l7.72-7.72 1.47 1.35L5.41 20z\"/>\n",
              "  </svg>\n",
              "      </button>\n",
              "      \n",
              "  <style>\n",
              "    .colab-df-container {\n",
              "      display:flex;\n",
              "      flex-wrap:wrap;\n",
              "      gap: 12px;\n",
              "    }\n",
              "\n",
              "    .colab-df-convert {\n",
              "      background-color: #E8F0FE;\n",
              "      border: none;\n",
              "      border-radius: 50%;\n",
              "      cursor: pointer;\n",
              "      display: none;\n",
              "      fill: #1967D2;\n",
              "      height: 32px;\n",
              "      padding: 0 0 0 0;\n",
              "      width: 32px;\n",
              "    }\n",
              "\n",
              "    .colab-df-convert:hover {\n",
              "      background-color: #E2EBFA;\n",
              "      box-shadow: 0px 1px 2px rgba(60, 64, 67, 0.3), 0px 1px 3px 1px rgba(60, 64, 67, 0.15);\n",
              "      fill: #174EA6;\n",
              "    }\n",
              "\n",
              "    [theme=dark] .colab-df-convert {\n",
              "      background-color: #3B4455;\n",
              "      fill: #D2E3FC;\n",
              "    }\n",
              "\n",
              "    [theme=dark] .colab-df-convert:hover {\n",
              "      background-color: #434B5C;\n",
              "      box-shadow: 0px 1px 3px 1px rgba(0, 0, 0, 0.15);\n",
              "      filter: drop-shadow(0px 1px 2px rgba(0, 0, 0, 0.3));\n",
              "      fill: #FFFFFF;\n",
              "    }\n",
              "  </style>\n",
              "\n",
              "      <script>\n",
              "        const buttonEl =\n",
              "          document.querySelector('#df-5a30bf4c-2e0b-4c7e-b2d6-5e85961a751c button.colab-df-convert');\n",
              "        buttonEl.style.display =\n",
              "          google.colab.kernel.accessAllowed ? 'block' : 'none';\n",
              "\n",
              "        async function convertToInteractive(key) {\n",
              "          const element = document.querySelector('#df-5a30bf4c-2e0b-4c7e-b2d6-5e85961a751c');\n",
              "          const dataTable =\n",
              "            await google.colab.kernel.invokeFunction('convertToInteractive',\n",
              "                                                     [key], {});\n",
              "          if (!dataTable) return;\n",
              "\n",
              "          const docLinkHtml = 'Like what you see? Visit the ' +\n",
              "            '<a target=\"_blank\" href=https://colab.research.google.com/notebooks/data_table.ipynb>data table notebook</a>'\n",
              "            + ' to learn more about interactive tables.';\n",
              "          element.innerHTML = '';\n",
              "          dataTable['output_type'] = 'display_data';\n",
              "          await google.colab.output.renderOutput(dataTable, element);\n",
              "          const docLink = document.createElement('div');\n",
              "          docLink.innerHTML = docLinkHtml;\n",
              "          element.appendChild(docLink);\n",
              "        }\n",
              "      </script>\n",
              "    </div>\n",
              "  </div>\n",
              "  "
            ]
          },
          "metadata": {},
          "execution_count": 5
        }
      ]
    },
    {
      "cell_type": "markdown",
      "source": [
        "# Task 2"
      ],
      "metadata": {
        "id": "zr97ciyzIcqV"
      }
    },
    {
      "cell_type": "code",
      "source": [
        "content = df['content'].copy()\n",
        "\n",
        "# Splitting words from text and removing punctuation symbols\n",
        "def remove_symbols(text):\n",
        "  return ''.join(\n",
        "      list(map(lambda character: ' ' if character in '.,:;!?\"”“%$()/\\|\\n\\t' else character, text))\n",
        "  )\n",
        "\n",
        "df['word'] = content.apply(str.lower).apply(remove_symbols)\n",
        "df"
      ],
      "metadata": {
        "colab": {
          "base_uri": "https://localhost:8080/",
          "height": 240
        },
        "id": "kDM6t905719m",
        "outputId": "c9020b7c-9ad2-46e2-e407-ea9e386297e1"
      },
      "execution_count": 6,
      "outputs": [
        {
          "output_type": "execute_result",
          "data": {
            "text/plain": [
              "                                          source_url  \\\n",
              "0  https://kun.uz/uz/news/2022/11/30/parda-ortida...   \n",
              "1  https://kun.uz/uz/news/2022/12/02/haqiqatda-za...   \n",
              "2  https://qalampir.uz/uz/news/sizlar-kabi-men-%D...   \n",
              "\n",
              "             access_datetime  \\\n",
              "0 2022-12-02 09:20:00.363609   \n",
              "1 2022-12-02 09:20:01.512848   \n",
              "2 2022-12-02 09:20:03.216314   \n",
              "\n",
              "                                             content  \\\n",
              "0  Oxirgi yillarda davlat korxonalarini xususiyla...   \n",
              "1  3 dekabr - Xalqaro nogironlar kuni sanasi ERIE...   \n",
              "2  Kecha, 28 noyabr kuni “Omadingizni bersin” tel...   \n",
              "\n",
              "                                                word  \n",
              "0  oxirgi yillarda davlat korxonalarini xususiyla...  \n",
              "1  3 dekabr - xalqaro nogironlar kuni sanasi erie...  \n",
              "2  kecha  28 noyabr kuni  omadingizni bersin  tel...  "
            ],
            "text/html": [
              "\n",
              "  <div id=\"df-43a3e527-e1d5-46a2-8b34-a100814edabc\">\n",
              "    <div class=\"colab-df-container\">\n",
              "      <div>\n",
              "<style scoped>\n",
              "    .dataframe tbody tr th:only-of-type {\n",
              "        vertical-align: middle;\n",
              "    }\n",
              "\n",
              "    .dataframe tbody tr th {\n",
              "        vertical-align: top;\n",
              "    }\n",
              "\n",
              "    .dataframe thead th {\n",
              "        text-align: right;\n",
              "    }\n",
              "</style>\n",
              "<table border=\"1\" class=\"dataframe\">\n",
              "  <thead>\n",
              "    <tr style=\"text-align: right;\">\n",
              "      <th></th>\n",
              "      <th>source_url</th>\n",
              "      <th>access_datetime</th>\n",
              "      <th>content</th>\n",
              "      <th>word</th>\n",
              "    </tr>\n",
              "  </thead>\n",
              "  <tbody>\n",
              "    <tr>\n",
              "      <th>0</th>\n",
              "      <td>https://kun.uz/uz/news/2022/11/30/parda-ortida...</td>\n",
              "      <td>2022-12-02 09:20:00.363609</td>\n",
              "      <td>Oxirgi yillarda davlat korxonalarini xususiyla...</td>\n",
              "      <td>oxirgi yillarda davlat korxonalarini xususiyla...</td>\n",
              "    </tr>\n",
              "    <tr>\n",
              "      <th>1</th>\n",
              "      <td>https://kun.uz/uz/news/2022/12/02/haqiqatda-za...</td>\n",
              "      <td>2022-12-02 09:20:01.512848</td>\n",
              "      <td>3 dekabr - Xalqaro nogironlar kuni sanasi ERIE...</td>\n",
              "      <td>3 dekabr - xalqaro nogironlar kuni sanasi erie...</td>\n",
              "    </tr>\n",
              "    <tr>\n",
              "      <th>2</th>\n",
              "      <td>https://qalampir.uz/uz/news/sizlar-kabi-men-%D...</td>\n",
              "      <td>2022-12-02 09:20:03.216314</td>\n",
              "      <td>Kecha, 28 noyabr kuni “Omadingizni bersin” tel...</td>\n",
              "      <td>kecha  28 noyabr kuni  omadingizni bersin  tel...</td>\n",
              "    </tr>\n",
              "  </tbody>\n",
              "</table>\n",
              "</div>\n",
              "      <button class=\"colab-df-convert\" onclick=\"convertToInteractive('df-43a3e527-e1d5-46a2-8b34-a100814edabc')\"\n",
              "              title=\"Convert this dataframe to an interactive table.\"\n",
              "              style=\"display:none;\">\n",
              "        \n",
              "  <svg xmlns=\"http://www.w3.org/2000/svg\" height=\"24px\"viewBox=\"0 0 24 24\"\n",
              "       width=\"24px\">\n",
              "    <path d=\"M0 0h24v24H0V0z\" fill=\"none\"/>\n",
              "    <path d=\"M18.56 5.44l.94 2.06.94-2.06 2.06-.94-2.06-.94-.94-2.06-.94 2.06-2.06.94zm-11 1L8.5 8.5l.94-2.06 2.06-.94-2.06-.94L8.5 2.5l-.94 2.06-2.06.94zm10 10l.94 2.06.94-2.06 2.06-.94-2.06-.94-.94-2.06-.94 2.06-2.06.94z\"/><path d=\"M17.41 7.96l-1.37-1.37c-.4-.4-.92-.59-1.43-.59-.52 0-1.04.2-1.43.59L10.3 9.45l-7.72 7.72c-.78.78-.78 2.05 0 2.83L4 21.41c.39.39.9.59 1.41.59.51 0 1.02-.2 1.41-.59l7.78-7.78 2.81-2.81c.8-.78.8-2.07 0-2.86zM5.41 20L4 18.59l7.72-7.72 1.47 1.35L5.41 20z\"/>\n",
              "  </svg>\n",
              "      </button>\n",
              "      \n",
              "  <style>\n",
              "    .colab-df-container {\n",
              "      display:flex;\n",
              "      flex-wrap:wrap;\n",
              "      gap: 12px;\n",
              "    }\n",
              "\n",
              "    .colab-df-convert {\n",
              "      background-color: #E8F0FE;\n",
              "      border: none;\n",
              "      border-radius: 50%;\n",
              "      cursor: pointer;\n",
              "      display: none;\n",
              "      fill: #1967D2;\n",
              "      height: 32px;\n",
              "      padding: 0 0 0 0;\n",
              "      width: 32px;\n",
              "    }\n",
              "\n",
              "    .colab-df-convert:hover {\n",
              "      background-color: #E2EBFA;\n",
              "      box-shadow: 0px 1px 2px rgba(60, 64, 67, 0.3), 0px 1px 3px 1px rgba(60, 64, 67, 0.15);\n",
              "      fill: #174EA6;\n",
              "    }\n",
              "\n",
              "    [theme=dark] .colab-df-convert {\n",
              "      background-color: #3B4455;\n",
              "      fill: #D2E3FC;\n",
              "    }\n",
              "\n",
              "    [theme=dark] .colab-df-convert:hover {\n",
              "      background-color: #434B5C;\n",
              "      box-shadow: 0px 1px 3px 1px rgba(0, 0, 0, 0.15);\n",
              "      filter: drop-shadow(0px 1px 2px rgba(0, 0, 0, 0.3));\n",
              "      fill: #FFFFFF;\n",
              "    }\n",
              "  </style>\n",
              "\n",
              "      <script>\n",
              "        const buttonEl =\n",
              "          document.querySelector('#df-43a3e527-e1d5-46a2-8b34-a100814edabc button.colab-df-convert');\n",
              "        buttonEl.style.display =\n",
              "          google.colab.kernel.accessAllowed ? 'block' : 'none';\n",
              "\n",
              "        async function convertToInteractive(key) {\n",
              "          const element = document.querySelector('#df-43a3e527-e1d5-46a2-8b34-a100814edabc');\n",
              "          const dataTable =\n",
              "            await google.colab.kernel.invokeFunction('convertToInteractive',\n",
              "                                                     [key], {});\n",
              "          if (!dataTable) return;\n",
              "\n",
              "          const docLinkHtml = 'Like what you see? Visit the ' +\n",
              "            '<a target=\"_blank\" href=https://colab.research.google.com/notebooks/data_table.ipynb>data table notebook</a>'\n",
              "            + ' to learn more about interactive tables.';\n",
              "          element.innerHTML = '';\n",
              "          dataTable['output_type'] = 'display_data';\n",
              "          await google.colab.output.renderOutput(dataTable, element);\n",
              "          const docLink = document.createElement('div');\n",
              "          docLink.innerHTML = docLinkHtml;\n",
              "          element.appendChild(docLink);\n",
              "        }\n",
              "      </script>\n",
              "    </div>\n",
              "  </div>\n",
              "  "
            ]
          },
          "metadata": {},
          "execution_count": 6
        }
      ]
    },
    {
      "cell_type": "code",
      "source": [
        "# Saving data\n",
        "df.to_csv('dataset.csv', index=False)"
      ],
      "metadata": {
        "id": "bdv1dpN_9v3a"
      },
      "execution_count": 7,
      "outputs": []
    },
    {
      "cell_type": "markdown",
      "source": [
        "# Task 3"
      ],
      "metadata": {
        "id": "xKOe7zJMIhPV"
      }
    },
    {
      "cell_type": "code",
      "source": [
        "# Counting word occurrences in all articles\n",
        "\n",
        "# Joining all articles\n",
        "full_text = ' '.join(df['word'])\n",
        "\n",
        "# Splitting words\n",
        "words = full_text.split(' ')\n",
        "\n",
        "# Removing duplicates\n",
        "words = set(words)\n",
        "words.remove('')\n",
        "words = list(words)"
      ],
      "metadata": {
        "id": "HF0nLnZACR-v"
      },
      "execution_count": 8,
      "outputs": []
    },
    {
      "cell_type": "code",
      "source": [
        "# Counting and saving into csv\n",
        "word_count = pd.DataFrame(columns=['word', 'count'])\n",
        "\n",
        "for word in words:\n",
        "  word_count.loc[len(word_count)] = [word, full_text.count(word)]\n",
        "\n",
        "word_count.sort_values('count', ascending=False).to_csv('words_count.csv', index=False)"
      ],
      "metadata": {
        "id": "IxRJIZ0MD7hc"
      },
      "execution_count": 9,
      "outputs": []
    },
    {
      "cell_type": "code",
      "source": [],
      "metadata": {
        "id": "_hIB3f7aDXyk"
      },
      "execution_count": 9,
      "outputs": []
    }
  ]
}